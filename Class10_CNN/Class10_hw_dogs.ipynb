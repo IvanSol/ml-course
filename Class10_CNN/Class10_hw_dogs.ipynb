{
 "cells": [
  {
   "cell_type": "markdown",
   "id": "76fab242-c5c7-45c0-b9b1-debc43fd76b9",
   "metadata": {},
   "source": [
    "## Dog breeds classifier.\n",
    "In this tasks you are supposed to build dog breeds classifier.\n",
    "You may use materials of previous classes, chat gpt, anything.\n",
    "\n",
    "Just get the maximum accuracy."
   ]
  },
  {
   "cell_type": "code",
   "execution_count": null,
   "id": "f5587496-c85b-46b4-bcbf-6878ea073faa",
   "metadata": {},
   "outputs": [],
   "source": [
    "from glob import glob\n",
    "import os\n",
    "import numpy as np\n",
    "import cv2\n",
    "import matplotlib.pyplot as plt\n",
    "import pickle as pkl\n",
    "import uuid\n",
    "from time import time"
   ]
  },
  {
   "cell_type": "markdown",
   "id": "42647162-0af2-4726-84c3-987c6862c919",
   "metadata": {},
   "source": [
    "### Download the data"
   ]
  },
  {
   "cell_type": "code",
   "execution_count": null,
   "id": "07db13c5-b71b-42a3-9674-224538e3064e",
   "metadata": {},
   "outputs": [],
   "source": [
    "# Google golab or in any Unix OS you may do that:\n",
    "!wget -O dogdata.zip https://www.dropbox.com/scl/fi/bokia8qstdekcyjqig1c5/dogdata.zip?rlkey=esrxurxfr4fe50duknmab979a&st=aqjo6u4r&dl=1 \n",
    "!unzip -q dogdata.zip -d dogdata\n",
    "data_path = './dogdata'\n",
    "# Or, you may download and extract file manually: https://www.dropbox.com/scl/fi/bokia8qstdekcyjqig1c5/dogdata.zip\n",
    "# And provide the path to extracted data here:\n",
    "# data_path = #'D:/Data/dogs'"
   ]
  },
  {
   "cell_type": "markdown",
   "id": "9db73733-1798-43e9-8a20-9e7dc671fca7",
   "metadata": {},
   "source": [
    "### Read labels and filenames"
   ]
  },
  {
   "cell_type": "code",
   "execution_count": null,
   "id": "97b0dabf-7665-47d1-9b97-9968122857b7",
   "metadata": {},
   "outputs": [],
   "source": [
    "fns = []\n",
    "y = []\n",
    "for lp in glob(f'{data_path}/train/*'):\n",
    "    label = os.path.basename(lp)\n",
    "    for fn in glob(f'{lp}/*'):\n",
    "        fns.append(fn)\n",
    "        y.append(label)\n",
    "fns = np.array(fns)\n",
    "y = np.array(y)\n",
    "\n",
    "fns_submit = glob(f'{data_path}/test/*')"
   ]
  },
  {
   "cell_type": "markdown",
   "id": "57b0ef39-345d-43c4-94b8-c9bd14223f6b",
   "metadata": {},
   "source": [
    "### Here are several examples:"
   ]
  },
  {
   "cell_type": "code",
   "execution_count": null,
   "id": "58fe5229-adb5-456f-80e0-52a870cd3bb4",
   "metadata": {},
   "outputs": [],
   "source": [
    "for label in list(set(y))[:5]:\n",
    "    print(label)\n",
    "    img = cv2.imread(fns[y == label][0])\n",
    "    plt.imshow(img[:,:,::-1])\n",
    "    plt.show()"
   ]
  },
  {
   "cell_type": "markdown",
   "id": "a974d7eb-ed4a-4610-b760-f25fded433a9",
   "metadata": {},
   "source": [
    "# Your code goes here:"
   ]
  },
  {
   "cell_type": "code",
   "execution_count": null,
   "id": "bb75f735-d300-49b7-a54b-384572d7320a",
   "metadata": {},
   "outputs": [],
   "source": [
    "# here"
   ]
  },
  {
   "cell_type": "code",
   "execution_count": null,
   "id": "352f1182-7468-406f-8f41-c690973c4cb2",
   "metadata": {},
   "outputs": [],
   "source": [
    "# and here"
   ]
  },
  {
   "cell_type": "code",
   "execution_count": null,
   "id": "b88120b6-7035-4041-bf68-11ef6d103122",
   "metadata": {},
   "outputs": [],
   "source": [
    "# and also here"
   ]
  },
  {
   "cell_type": "markdown",
   "id": "fbde31bc-ec18-40b3-a10f-534fb26c2631",
   "metadata": {},
   "source": [
    "## Generating the answer to submit:"
   ]
  },
  {
   "cell_type": "code",
   "execution_count": null,
   "id": "b2cb82c4-53f7-468c-b8f0-d33c26b8b271",
   "metadata": {},
   "outputs": [],
   "source": [
    "# This code does not work.\n",
    "# You may rewrite it as you wish (e.g. use torch.utils.data.Dataset and proper data preprocessing (like ToTensor())).\n",
    "# It just shows that you should read images at filenames given in fns_submit and accumulate predicted labels in y_submit\n",
    "y_submit = []\n",
    "for fn in fns_submit:\n",
    "    img = cv2.imread(fn)\n",
    "    label = model(transform(img))\n",
    "    y_submit.append(label)"
   ]
  },
  {
   "cell_type": "code",
   "execution_count": null,
   "id": "1538e754-79af-437d-97e9-16f6e122bec5",
   "metadata": {},
   "outputs": [],
   "source": [
    "answer_to_submit = {fn: label for fn, label in zip(fns_submit, y_submit)}\n",
    "with open('my_answer_dogs.pkl', 'wb') as f:\n",
    "    pkl.dump((answer_to_submit, uuid.uuid4().hex, time()), f)"
   ]
  },
  {
   "cell_type": "markdown",
   "id": "9ff1f649-5a41-43bd-88ac-ef865c3e5ffa",
   "metadata": {},
   "source": [
    "Now submit your result to yandex contest and let us see the score."
   ]
  }
 ],
 "metadata": {
  "kernelspec": {
   "display_name": "Python [conda env:base] *",
   "language": "python",
   "name": "conda-base-py"
  },
  "language_info": {
   "codemirror_mode": {
    "name": "ipython",
    "version": 3
   },
   "file_extension": ".py",
   "mimetype": "text/x-python",
   "name": "python",
   "nbconvert_exporter": "python",
   "pygments_lexer": "ipython3",
   "version": "3.12.7"
  }
 },
 "nbformat": 4,
 "nbformat_minor": 5
}
