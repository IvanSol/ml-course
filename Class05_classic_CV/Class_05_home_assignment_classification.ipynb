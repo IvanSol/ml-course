{
 "cells": [
  {
   "cell_type": "code",
   "execution_count": null,
   "id": "308f616d-87b2-49c3-9a22-6276d15040c5",
   "metadata": {},
   "outputs": [],
   "source": [
    "import cv2\n",
    "import matplotlib.pyplot as plt\n",
    "import numpy as np\n",
    "from glob import glob\n",
    "from tqdm import tqdm\n",
    "import os\n",
    "import pickle as pkl\n",
    "from time import time\n",
    "import uuid\n",
    "import zipfile"
   ]
  },
  {
   "cell_type": "markdown",
   "id": "78ed17c5-2ff5-4eaa-87b9-307e495459b5",
   "metadata": {},
   "source": [
    "## Reading the dataset:"
   ]
  },
  {
   "cell_type": "code",
   "execution_count": null,
   "id": "159a8968-6e94-4867-910b-b4664083d017",
   "metadata": {},
   "outputs": [],
   "source": [
    "# Uncomment if you are in Google Colab:\n",
    "\n",
    "# !pip install wget\n",
    "# import wget, os\n",
    "# url = \"https://github.com/IvanSol/ml-course/raw/refs/heads/master/Class05_classic_CV/data/barcodes.zip\"\n",
    "# os.makedirs('data', exist_ok=True)   \n",
    "# wget.download(url, out=os.path.join('data', 'barcodes.zip'))"
   ]
  },
  {
   "cell_type": "code",
   "execution_count": null,
   "id": "de104538-58ce-43f7-a1e5-015506a3b6d4",
   "metadata": {},
   "outputs": [],
   "source": [
    "with zipfile.ZipFile('data/barcodes.zip', 'r') as z:\n",
    "    z.extractall('data/barcodes/')"
   ]
  },
  {
   "cell_type": "code",
   "execution_count": null,
   "id": "12a6ecee-1e62-4666-ac10-da1ed3cfdf1c",
   "metadata": {},
   "outputs": [],
   "source": [
    "X_imgs = []\n",
    "y = []\n",
    "for label_path in glob('data/barcodes/train/*'):\n",
    "    label = os.path.basename(label_path)\n",
    "    for fn in tqdm(glob(os.path.join(label_path, '*.png')), desc=f'Reading label {label}'):\n",
    "        X_imgs.append(cv2.imread(fn, cv2.IMREAD_GRAYSCALE))\n",
    "        y.append(label)\n",
    "y = np.array(y).astype(int)\n",
    "X_imgs = np.array(X_imgs, dtype=\"object\")"
   ]
  },
  {
   "cell_type": "code",
   "execution_count": null,
   "id": "230ba8ab-bf12-4ecd-9256-5ff762bc5d65",
   "metadata": {},
   "outputs": [],
   "source": [
    "for label in sorted(list(set(y))):\n",
    "    print(label)\n",
    "    plt.subplot(121)\n",
    "    plt.imshow(X_imgs[y == label][0], cmap='gray')\n",
    "    plt.subplot(122)\n",
    "    plt.imshow(X_imgs[y == label][100], cmap='gray')\n",
    "    plt.show()"
   ]
  },
  {
   "cell_type": "code",
   "execution_count": null,
   "id": "a1d14147-fa76-40dc-9d7c-c5f7d0c4669f",
   "metadata": {},
   "outputs": [],
   "source": []
  },
  {
   "cell_type": "markdown",
   "id": "189dabc3-2493-4162-be18-7d5f74767ae4",
   "metadata": {},
   "source": [
    "## Let us try simpliest feature -- ratio of white color on the image."
   ]
  },
  {
   "cell_type": "code",
   "execution_count": null,
   "id": "c262941b-338e-4247-a87e-d6332224fe19",
   "metadata": {},
   "outputs": [],
   "source": [
    "def get_features(X_imgs):\n",
    "    X = []\n",
    "    for img in tqdm(X_imgs, desc='Extracting features...'):\n",
    "        X.append([\n",
    "            (img.astype(float) / 255).sum() / img.size,\n",
    "        ])\n",
    "    X = np.array(X)\n",
    "    return X"
   ]
  },
  {
   "cell_type": "code",
   "execution_count": null,
   "id": "e265a1b1-e7ec-41c6-9b27-25cd624ef3fe",
   "metadata": {},
   "outputs": [],
   "source": [
    "X = get_features(X_imgs)"
   ]
  },
  {
   "cell_type": "code",
   "execution_count": null,
   "id": "d95a1b60-3200-49df-af4c-87b2fdb0dd78",
   "metadata": {},
   "outputs": [],
   "source": [
    "from sklearn.linear_model import LogisticRegression as LR"
   ]
  },
  {
   "cell_type": "markdown",
   "id": "edb58e39-90d2-4f89-b2d2-0f102f2a960f",
   "metadata": {},
   "source": [
    "### Only training part of the dataset is labeled. So, it is the only part of the dataset we can use for training and testing.\n",
    "### Let us try test on the same part we used for training (not a good idea, actually):"
   ]
  },
  {
   "cell_type": "code",
   "execution_count": null,
   "id": "ef1e1b20-e44b-4cf8-a205-1f186269e99a",
   "metadata": {},
   "outputs": [],
   "source": [
    "# Here we are training Logistic Regression:\n",
    "model = LR()\n",
    "model.fit(X, y)"
   ]
  },
  {
   "cell_type": "markdown",
   "id": "061ea5d5-dd4f-4837-b314-564fbb15c9b5",
   "metadata": {},
   "source": [
    "#### Calculating the score:"
   ]
  },
  {
   "cell_type": "code",
   "execution_count": null,
   "id": "dacca496-2834-4601-9309-1b07e8883294",
   "metadata": {},
   "outputs": [],
   "source": [
    "model.score(X, y)"
   ]
  },
  {
   "cell_type": "markdown",
   "id": "bf9dadb0-39f2-4177-b62c-6266290b870f",
   "metadata": {},
   "source": [
    "#### Score above is accuracy score. We may calculate it manually by calculating ratio of correct classifications:"
   ]
  },
  {
   "cell_type": "code",
   "execution_count": null,
   "id": "d53ec682-d499-4b0e-937a-8009ede4b9db",
   "metadata": {},
   "outputs": [],
   "source": [
    "y_pred = model.predict(X)\n",
    "print('Accuracy =', (y_pred == y).sum() / len(y))"
   ]
  },
  {
   "cell_type": "code",
   "execution_count": null,
   "id": "e697027f-0e05-48d7-bd48-5efead9429a0",
   "metadata": {},
   "outputs": [],
   "source": []
  },
  {
   "cell_type": "code",
   "execution_count": null,
   "id": "40b13221-f303-4ba6-8697-8db2c3148fcf",
   "metadata": {},
   "outputs": [],
   "source": []
  },
  {
   "cell_type": "markdown",
   "id": "58f7915e-37ce-4f2a-ab4f-3b45a0b27d5c",
   "metadata": {},
   "source": [
    "## Let us review testing data and generate resulting file:"
   ]
  },
  {
   "cell_type": "code",
   "execution_count": null,
   "id": "0abe9be6-96d7-4a9a-b1a2-8c09847ef46c",
   "metadata": {},
   "outputs": [],
   "source": [
    "X_test_imgs = []\n",
    "test_names = []\n",
    "for fn in tqdm(glob('data/barcodes/test/*'), desc='Reading test set'):\n",
    "    X_test_imgs.append(cv2.imread(fn, cv2.IMREAD_GRAYSCALE))\n",
    "    test_names.append(os.path.basename(fn))\n",
    "X_test_imgs = np.array(X_test_imgs, dtype=\"object\")"
   ]
  },
  {
   "cell_type": "code",
   "execution_count": null,
   "id": "73559fb8-7b10-4b5e-9b15-06a43f0d083e",
   "metadata": {},
   "outputs": [],
   "source": [
    "for im in X_test_imgs[:5]:\n",
    "    plt.imshow(im, cmap='gray')\n",
    "    plt.show()"
   ]
  },
  {
   "cell_type": "markdown",
   "id": "647a6341-c4df-4ac2-8dc9-f9392c996af0",
   "metadata": {},
   "source": [
    "## As you may see, images in the dataset can be rotated. You should be able to deal with it."
   ]
  },
  {
   "cell_type": "markdown",
   "id": "171a0c76-1d8f-428f-ab20-818187305135",
   "metadata": {},
   "source": [
    "## Let us generate the answer:"
   ]
  },
  {
   "cell_type": "code",
   "execution_count": null,
   "id": "bb9adeb5-c924-4dc7-9c4e-b889e97914ba",
   "metadata": {},
   "outputs": [],
   "source": [
    "X_test = get_features(X_test_imgs)"
   ]
  },
  {
   "cell_type": "code",
   "execution_count": null,
   "id": "8898b366-8c58-49f9-9c4d-7e955a1a85b0",
   "metadata": {},
   "outputs": [],
   "source": [
    "y_test_pred = model.predict(X_test)"
   ]
  },
  {
   "cell_type": "code",
   "execution_count": null,
   "id": "bf29aac1-47ec-4ae8-9096-082a172767f2",
   "metadata": {},
   "outputs": [],
   "source": [
    "for label in sorted(list(set(y))):\n",
    "    print(label)\n",
    "    if (y_test_pred == label).sum() < 6:\n",
    "        continue\n",
    "    plt.subplot(121)\n",
    "    plt.imshow(X_test_imgs[y_test_pred == label][0], cmap='gray')\n",
    "    plt.subplot(122)\n",
    "    plt.imshow(X_test_imgs[y_test_pred == label][5], cmap='gray')\n",
    "    plt.show() "
   ]
  },
  {
   "cell_type": "markdown",
   "id": "03b21c52-5dfe-4771-98b1-87f8965a4ddb",
   "metadata": {},
   "source": [
    "# Your task is to:\n",
    "- Find better way to evaluate your model (not to make testing on training set).\n",
    "- Get higher accuracy (>95% -- 1 point, >97% -- 2 points, >98% -- 3 points, >99% -- 4 points, >99.5% -- 5 pointis).\n",
    "- Plot confusion matrix for your model (1 point) and ROC curves for each class (1 point)."
   ]
  },
  {
   "cell_type": "code",
   "execution_count": null,
   "id": "3db07921-b7f8-4208-b1fb-5efbe252f1f5",
   "metadata": {},
   "outputs": [],
   "source": [
    "# store matrix and ROC curves as images here:\n",
    "conf_matrix = None\n",
    "ROC_curves = []"
   ]
  },
  {
   "cell_type": "code",
   "execution_count": null,
   "id": "c0da8d39-8896-405e-a28f-0279ab7cfe39",
   "metadata": {},
   "outputs": [],
   "source": [
    "answer_to_submit = {fn: yy for fn, yy in zip(test_names, y_test_pred)}"
   ]
  },
  {
   "cell_type": "code",
   "execution_count": null,
   "id": "bb6f7a0e-5179-446d-84ca-fe91572bf5a9",
   "metadata": {},
   "outputs": [],
   "source": [
    "with open('my_answer.pkl', 'wb') as f:\n",
    "    pkl.dump((answer_to_submit, conf_matrix, ROC_curves, uuid.uuid4().hex, time()), f)"
   ]
  },
  {
   "cell_type": "markdown",
   "id": "c6b3a1bc-45bf-4738-baa3-cfaa51ba3e0e",
   "metadata": {},
   "source": [
    "### Now submit `my_answer.pkl` (either to google classroom or to yandex contest, I will let you know the proper way after the weekend)."
   ]
  },
  {
   "cell_type": "code",
   "execution_count": null,
   "id": "1483fb94-e2a8-4b10-8c95-e141b9c76b10",
   "metadata": {},
   "outputs": [],
   "source": []
  }
 ],
 "metadata": {
  "kernelspec": {
   "display_name": "Python [conda env:base] *",
   "language": "python",
   "name": "conda-base-py"
  },
  "language_info": {
   "codemirror_mode": {
    "name": "ipython",
    "version": 3
   },
   "file_extension": ".py",
   "mimetype": "text/x-python",
   "name": "python",
   "nbconvert_exporter": "python",
   "pygments_lexer": "ipython3",
   "version": "3.12.7"
  }
 },
 "nbformat": 4,
 "nbformat_minor": 5
}
