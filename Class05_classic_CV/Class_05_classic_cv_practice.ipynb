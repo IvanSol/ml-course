{
 "cells": [
  {
   "cell_type": "code",
   "execution_count": null,
   "id": "308f616d-87b2-49c3-9a22-6276d15040c5",
   "metadata": {},
   "outputs": [],
   "source": [
    "import cv2\n",
    "import matplotlib.pyplot as plt\n",
    "import numpy as np\n",
    "from glob import glob"
   ]
  },
  {
   "cell_type": "markdown",
   "id": "78ed17c5-2ff5-4eaa-87b9-307e495459b5",
   "metadata": {},
   "source": [
    "## Reading the image:"
   ]
  },
  {
   "cell_type": "code",
   "execution_count": null,
   "id": "7e537930-1878-4704-9160-0ac73eeade8b",
   "metadata": {},
   "outputs": [],
   "source": [
    "# Uncomment if you are in Google Colab:\n",
    "\n",
    "# !pip install wget\n",
    "# import wget, os\n",
    "# url0 = \"https://github.com/IvanSol/ml-course/raw/refs/heads/master/Class05_classic_CV/data/\"\n",
    "# urls = [url0 + fn for fn in ['cat.png', 'day00.png', 'day01.jpg', 'day02.jpg', 'day03.jpg', 'day04.jpg', 'night00.jpg', 'night01.jpg', 'night02.png', 'night03.jpg', 'night04.png', 'board.png']]\n",
    "# os.makedirs('data', exist_ok=True)   \n",
    "# for url in urls:\n",
    "#   wget.download(url, out=os.path.join('data', url.split('/')[-1]))"
   ]
  },
  {
   "cell_type": "code",
   "execution_count": null,
   "id": "24e8b519-47de-4b0b-8103-7f864abfe9fd",
   "metadata": {},
   "outputs": [],
   "source": [
    "cat = cv2.imread('data/cat.png')\n",
    "plt.imshow(cat)"
   ]
  },
  {
   "cell_type": "markdown",
   "id": "336881e2-17a3-4082-a8e7-ca9de81e391d",
   "metadata": {},
   "source": [
    "### Colors seem to be incorrect. This happens because opencv by default stores images as BGR, not RGB.\n",
    "There is a special function for converting the colors:"
   ]
  },
  {
   "cell_type": "code",
   "execution_count": null,
   "id": "7938bbd2-24dc-4433-bc9f-e616fec0f3f1",
   "metadata": {},
   "outputs": [],
   "source": [
    "cat_rgb = cv2.cvtColor(cat, cv2.COLOR_BGR2RGB)\n",
    "plt.imshow(cat_rgb)"
   ]
  },
  {
   "cell_type": "markdown",
   "id": "c8dbb63d-3698-4d38-8af7-b05585558357",
   "metadata": {},
   "source": [
    "Image is stored as 3-d array: (H, W, C), C -- channels. For RGB image there are 3 channels: R, G, B."
   ]
  },
  {
   "cell_type": "code",
   "execution_count": null,
   "id": "1d3b4171-06d0-49f8-8d0f-07bf3a0cc462",
   "metadata": {},
   "outputs": [],
   "source": [
    "cat.shape"
   ]
  },
  {
   "cell_type": "markdown",
   "id": "2e305fc0-8d6b-4f1b-b0cd-c94897b54410",
   "metadata": {},
   "source": [
    "So, actually, to turn BGR image to RGB we may just inverse order of channels:"
   ]
  },
  {
   "cell_type": "code",
   "execution_count": null,
   "id": "f073f686-68b4-4fa4-afa6-90283cf73eaf",
   "metadata": {},
   "outputs": [],
   "source": [
    "cat_rgb2 = cat[:,:,::-1]\n",
    "plt.imshow(cat_rgb2)"
   ]
  },
  {
   "cell_type": "code",
   "execution_count": null,
   "id": "dedf23e3-d5b1-41a5-a35f-f7b7c6a0dca1",
   "metadata": {},
   "outputs": [],
   "source": []
  },
  {
   "cell_type": "markdown",
   "id": "87c68b08-a63e-4fae-80e0-ae321119200a",
   "metadata": {},
   "source": [
    "Classical computer vision algorithms often work with grayscale image, so, let us convert image to grayscale:"
   ]
  },
  {
   "cell_type": "code",
   "execution_count": null,
   "id": "d90f616c-7953-4f95-8d0e-feb62ecf4c94",
   "metadata": {},
   "outputs": [],
   "source": [
    "cat_gray = cv2.cvtColor(cat, cv2.COLOR_BGR2GRAY)\n",
    "print(cat_gray.shape)\n",
    "plt.imshow(cat_gray, cmap='gray')"
   ]
  },
  {
   "cell_type": "markdown",
   "id": "d22501e3-b61a-4f68-b817-dadb83190689",
   "metadata": {},
   "source": [
    "Sometimes we may select some parts of the image according to some criteria, then selected parts may be stored in binary image which contains 0 or 1:"
   ]
  },
  {
   "cell_type": "code",
   "execution_count": null,
   "id": "84ba328c-a86f-43dc-8953-e9440808dabc",
   "metadata": {},
   "outputs": [],
   "source": [
    "cat_bin = cat_gray < 10\n",
    "plt.imshow(cat_bin, cmap='gray')"
   ]
  },
  {
   "cell_type": "code",
   "execution_count": null,
   "id": "b8e48b98-94fc-48c2-b0ad-609952577b06",
   "metadata": {},
   "outputs": [],
   "source": [
    "def get_kernel(n):\n",
    "    # Let's define our kernel size\n",
    "    kernel = np.zeros((n,n), np.uint8)\n",
    "    kernel = cv2.circle(kernel, (n//2, n//2), n//2, 1, -1)\n",
    "    return kernel    "
   ]
  },
  {
   "cell_type": "code",
   "execution_count": null,
   "id": "9cb205b3-ada8-42b4-b7ea-6e71a0d876a3",
   "metadata": {},
   "outputs": [],
   "source": [
    "# Now we erode\n",
    "cat_2 = cv2.erode(cat_bin.astype(np.uint8), get_kernel(3))\n",
    "cat_2 = cv2.dilate(cat_2.astype(np.uint8), get_kernel(35))\n",
    "plt.imshow(cat_2)"
   ]
  },
  {
   "cell_type": "code",
   "execution_count": null,
   "id": "067cf396-b839-4598-89b0-c0e2ac9156bf",
   "metadata": {},
   "outputs": [],
   "source": [
    "info, component_map = cv2.connectedComponents(cat_2.astype(np.uint8))\n",
    "print(info)\n",
    "plt.imshow(component_map)"
   ]
  },
  {
   "cell_type": "code",
   "execution_count": null,
   "id": "8adfdc36-4c5b-4a87-9f85-2cc740364c8b",
   "metadata": {},
   "outputs": [],
   "source": []
  },
  {
   "cell_type": "code",
   "execution_count": null,
   "id": "9c31cf57-2336-4d89-a6ce-4e5c927b0343",
   "metadata": {},
   "outputs": [],
   "source": []
  },
  {
   "cell_type": "markdown",
   "id": "8ecbe972-e351-44bd-87eb-e96e2ee85ef0",
   "metadata": {},
   "source": [
    "## Task: Write a function to calculate how many red circles are there on the image (3 points)."
   ]
  },
  {
   "cell_type": "code",
   "execution_count": null,
   "id": "1d166f69-2e2f-45e1-a565-8d1b423b6ecf",
   "metadata": {},
   "outputs": [],
   "source": [
    "W, H = 1000, 1000\n",
    "img = np.ones((H, W, 3)) * 255\n",
    "colors = [(255, 0, 0), (0, 255, 0), (0, 0, 255)]\n",
    "for i in range(100):\n",
    "    ok = False\n",
    "    while not ok:\n",
    "        x, y = np.random.randint(0, 1000, 2)\n",
    "        min_r = min([50, x, y, W - x, H - y])\n",
    "        if min_r <= 10:\n",
    "            continue\n",
    "        r = np.random.randint(10, min_r)\n",
    "        c = colors[np.random.randint(3)]\n",
    "        m = img[y - r : y + r + 1, x - r : x + r + 1]\n",
    "        mask = np.ones_like(m) * 255\n",
    "        cv2.circle(mask, (r, r), r, 0, -1)\n",
    "        if (m[mask > 0] == 255).all():\n",
    "            ok = True\n",
    "            img = cv2.circle(img, (x, y), r, c, -1)\n",
    "#plt.imshow(img)"
   ]
  },
  {
   "cell_type": "code",
   "execution_count": null,
   "id": "494d3504-3d29-4a76-ae00-2c135190c15d",
   "metadata": {},
   "outputs": [],
   "source": [
    "plt.imshow(img)"
   ]
  },
  {
   "cell_type": "code",
   "execution_count": null,
   "id": "e5ba9abb-15ab-45e3-b30a-b74336efbd41",
   "metadata": {},
   "outputs": [],
   "source": [
    "def count_red_circles(img):\n",
    "    pass # YOUR CODE HERE"
   ]
  },
  {
   "cell_type": "code",
   "execution_count": null,
   "id": "9e108528-0f11-4906-9eb5-493b491f182a",
   "metadata": {},
   "outputs": [],
   "source": []
  },
  {
   "cell_type": "code",
   "execution_count": null,
   "id": "95f580b9-503e-4583-ab2d-af6ef84a61d2",
   "metadata": {},
   "outputs": [],
   "source": []
  },
  {
   "cell_type": "code",
   "execution_count": null,
   "id": "e248ad13-0a60-44ef-8787-ce069b477eb5",
   "metadata": {},
   "outputs": [],
   "source": [
    "img = cv2.imread('data/board.png', cv2.IMREAD_GRAYSCALE)\n",
    "plt.imshow(img, cmap='gray')"
   ]
  },
  {
   "cell_type": "code",
   "execution_count": null,
   "id": "1f5f0dba-9811-4d9e-9eab-a50a0495a92c",
   "metadata": {},
   "outputs": [],
   "source": [
    "gray = abs(img[1:].astype(float) - img[:-1].astype(float))\n",
    "gray = cv2.dilate(gray.astype(np.uint8), get_kernel(5))\n",
    "plt.imshow(gray>0, cmap='gray')"
   ]
  },
  {
   "cell_type": "code",
   "execution_count": null,
   "id": "7dc587b1-645a-4259-92a4-afdd06d79b59",
   "metadata": {},
   "outputs": [],
   "source": [
    "# It contains code with geometrical functions to calculate distance between lines:\n",
    "from remove_similar_lines import remove_similar_lines\n",
    "\n",
    "def detect_lines(gray, threshold=10, min_line_length=1000, max_line_gap=100):\n",
    "    \"\"\"\n",
    "    Detects lines on the image using Hough transform.\n",
    "    \"\"\"\n",
    "    blurred = (cv2.GaussianBlur(gray, (3, 3), 0) > 0).astype(np.uint8)\n",
    "    lines = cv2.HoughLinesP(blurred, \n",
    "                            rho=1, \n",
    "                            theta=np.pi/180, \n",
    "                            threshold=100,\n",
    "                            minLineLength=min_line_length,\n",
    "                            maxLineGap=max_line_gap)\n",
    "    \n",
    "    image_with_lines = np.zeros_like(gray)\n",
    "    # This function calculates paiwise distances between lines and removes ones which are close to each other.\n",
    "    lines = remove_similar_lines([l[0] for l in lines])\n",
    "    \n",
    "    # Draw found lines:\n",
    "    if lines is not None:\n",
    "        for line in lines:\n",
    "            x1, y1, x2, y2 = line\n",
    "            cv2.line(image_with_lines, (x1, y1), (x2, y2), 255, 2)\n",
    "    \n",
    "    return image_with_lines, lines"
   ]
  },
  {
   "cell_type": "code",
   "execution_count": null,
   "id": "c1a58944-6b5c-4a52-9bee-ee69a57577f6",
   "metadata": {},
   "outputs": [],
   "source": [
    "grad_y = abs(img[1:] - img[:-1])\n",
    "plt.imshow(grad_y)\n",
    "plt.show()"
   ]
  },
  {
   "cell_type": "code",
   "execution_count": null,
   "id": "fa7267d2-6f12-460f-822f-85af461a93a4",
   "metadata": {},
   "outputs": [],
   "source": [
    "result_image, lines = detect_lines(grad_y)\n",
    "print(f\"Lines found: {len(lines) if lines is not None else 0}\")\n",
    "plt.imshow(result_image)"
   ]
  },
  {
   "cell_type": "markdown",
   "id": "3ec1acc3-c850-4892-890b-54bf6d2e2473",
   "metadata": {},
   "source": [
    "## Task: Color all black cells in even rows with green (5 points)."
   ]
  },
  {
   "cell_type": "code",
   "execution_count": null,
   "id": "8fa3e436-7c39-4eed-8a81-5f4aefa2f29e",
   "metadata": {},
   "outputs": [],
   "source": [
    "def recolor_even_rows(img):\n",
    "    pass # YOUR CODE HERE"
   ]
  },
  {
   "cell_type": "code",
   "execution_count": null,
   "id": "ce6fada1-73c7-4a16-9181-828dd4761869",
   "metadata": {},
   "outputs": [],
   "source": []
  },
  {
   "cell_type": "markdown",
   "id": "4ab360c0-712e-4b56-ba1e-f7311b4c3edd",
   "metadata": {},
   "source": [
    "## Image classification"
   ]
  },
  {
   "cell_type": "code",
   "execution_count": null,
   "id": "c191bc4d-b824-4495-a440-6d2454e34dc2",
   "metadata": {},
   "outputs": [],
   "source": []
  },
  {
   "cell_type": "code",
   "execution_count": null,
   "id": "a4ea940c-480b-4128-bf7d-04edaaae56a4",
   "metadata": {},
   "outputs": [],
   "source": [
    "day_imgs = []\n",
    "night_imgs = []\n",
    "for fn in glob('data/day*'):\n",
    "    day_imgs.append(cv2.imread(fn, cv2.IMREAD_GRAYSCALE))\n",
    "for fn in glob('data/night*'):\n",
    "    night_imgs.append(cv2.imread(fn, cv2.IMREAD_GRAYSCALE))"
   ]
  },
  {
   "cell_type": "code",
   "execution_count": null,
   "id": "0ef03a2e-3a58-4856-8bac-af14d3e54332",
   "metadata": {},
   "outputs": [],
   "source": [
    "plt.imshow(day_imgs[0], cmap='gray')\n",
    "plt.show()\n",
    "plt.imshow(night_imgs[0], cmap='gray')\n",
    "plt.show()"
   ]
  },
  {
   "cell_type": "markdown",
   "id": "1470437f-f5d3-4306-8514-2f849b80c862",
   "metadata": {},
   "source": [
    "#### Here we may find features to be used for classification."
   ]
  }
 ],
 "metadata": {
  "kernelspec": {
   "display_name": "Python [conda env:base] *",
   "language": "python",
   "name": "conda-base-py"
  },
  "language_info": {
   "codemirror_mode": {
    "name": "ipython",
    "version": 3
   },
   "file_extension": ".py",
   "mimetype": "text/x-python",
   "name": "python",
   "nbconvert_exporter": "python",
   "pygments_lexer": "ipython3",
   "version": "3.12.7"
  }
 },
 "nbformat": 4,
 "nbformat_minor": 5
}
